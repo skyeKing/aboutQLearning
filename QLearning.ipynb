{
 "cells": [
  {
   "cell_type": "code",
   "execution_count": 3,
   "metadata": {
    "collapsed": true
   },
   "outputs": [],
   "source": [
    "#-*- coding:utf-8 -*-"
   ]
  },
  {
   "cell_type": "code",
   "execution_count": 18,
   "metadata": {
    "collapsed": true
   },
   "outputs": [],
   "source": [
    "import numpy as np\n",
    "import PIL.ImageGrab as ImageGrab\n",
    "import PIL.Image as Image\n",
    "import win32gui,win32api,os,time"
   ]
  },
  {
   "cell_type": "markdown",
   "metadata": {},
   "source": [
    "抓取程序窗口的名字，通过应用程序 <b>spy++</b> ，搜索获取"
   ]
  },
  {
   "cell_type": "code",
   "execution_count": null,
   "metadata": {
    "collapsed": true
   },
   "outputs": [],
   "source": [
    "windowTitleText = u'MuMu模拟器'"
   ]
  },
  {
   "cell_type": "markdown",
   "metadata": {},
   "source": [
    "获取窗口句柄，得出（位置，大小）矩阵，抓取图片"
   ]
  },
  {
   "cell_type": "code",
   "execution_count": 17,
   "metadata": {},
   "outputs": [],
   "source": [
    "hwnd = win32gui.FindWindow(None,windowTitleText)\n",
    "bbox = win32gui.GetWindowRect(hwnd)\n",
    "grabImg = ImageGrab.grab(bbox)\n",
    "#grabImg.show() \n",
    "    "
   ]
  },
  {
   "cell_type": "markdown",
   "metadata": {},
   "source": [
    "声明一些需要用到的抓取图片的名字，格式，路径"
   ]
  },
  {
   "cell_type": "code",
   "execution_count": null,
   "metadata": {
    "collapsed": true
   },
   "outputs": [],
   "source": [
    "grabImgName = '_'.join(repr(time.time()).split('.'))\n",
    "grabImgFormat = 'png'\n",
    "grabImgSavePath = 'D:/grabImgs'\n",
    "grabImg = '%s.%s'%(grabImgName,grabImgFormat)\n",
    "grabImgPath = os.path.join(grabImgSavePath,grabImg).replace('\\\\','/')"
   ]
  },
  {
   "cell_type": "markdown",
   "metadata": {},
   "source": [
    "将获取的图片保存"
   ]
  },
  {
   "cell_type": "code",
   "execution_count": null,
   "metadata": {
    "collapsed": true
   },
   "outputs": [],
   "source": [
    "grabImg.save(grabImgPath)"
   ]
  },
  {
   "cell_type": "markdown",
   "metadata": {},
   "source": [
    "#sys.setdefaultencoding(“utf-8”) 这种方式在3.x中被彻底遗弃<br>\n",
    "import sys<br>\n",
    "reload(sys)<br>\n",
    "sys.setdefaultencoding('utf-8')<br>"
   ]
  },
  {
   "cell_type": "markdown",
   "metadata": {},
   "source": [
    "win32gui.EnableWindow(hwnd,True)#激活窗口<br>\n",
    "win32gui.SetForegroundWindow(hwnd)#将窗口句柄对应的窗口至于最前端<br>\n",
    "'''<br>\n",
    "添加上俩句之后报错，error 5，拒绝访问<br>\n",
    "现在的解决方式是把窗口一直放在最前端<br>\n",
    "'''<br>\n"
   ]
  },
  {
   "cell_type": "markdown",
   "metadata": {},
   "source": [
    "在win7 系统下怎么使用startfile以管理员的权限执行某个程序?<br>\n",
    "os.startfile(r\"C:\\Program Files (x86)\\MuMu\\emulator\\nemu\\EmulatorShell\\NemuPlayer.exe\")"
   ]
  }
 ],
 "metadata": {
  "kernelspec": {
   "display_name": "Python 3",
   "language": "python",
   "name": "python3"
  },
  "language_info": {
   "codemirror_mode": {
    "name": "ipython",
    "version": 3
   },
   "file_extension": ".py",
   "mimetype": "text/x-python",
   "name": "python",
   "nbconvert_exporter": "python",
   "pygments_lexer": "ipython3",
   "version": "3.6.2"
  }
 },
 "nbformat": 4,
 "nbformat_minor": 2
}
